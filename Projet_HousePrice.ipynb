{
 "cells": [
  {
   "cell_type": "markdown",
   "id": "0b9dfed7",
   "metadata": {},
   "source": [
    "Analyse de données et estimation du prix de biens immobiliers\n",
    " \n",
    "fichier de données : house_price_data.csv\n",
    "\n",
    "variables descriptives X : caractéristiques des biens immobiliers (cf description_data.txt)\n",
    "\n",
    "variable cible Y : prix des biens immobiliers\n",
    "\n",
    "- Explorer et comprendre les données \n",
    "- Nettoyer les données, missing values et outliers\n",
    "- Choisir les bonnes variables pour l'entraînement du modèle, distribution et corrélation\n",
    "- Réduire le nombre de variables en combinant des colonnes\n",
    "- Transformer les données, scaling et encoding"
   ]
  },
  {
   "cell_type": "code",
   "execution_count": null,
   "id": "2f46777d",
   "metadata": {},
   "outputs": [],
   "source": [
    "import pandas as pd\n",
    "import numpy as np\n",
    "import matplotlib.pyplot as plt\n",
    "import seaborn as sns"
   ]
  },
  {
   "cell_type": "code",
   "execution_count": null,
   "id": "57944a99",
   "metadata": {},
   "outputs": [],
   "source": [
    "pd.set_option('display.max_columns', None)"
   ]
  },
  {
   "cell_type": "code",
   "execution_count": null,
   "id": "73981285-9720-469a-993d-f9fc3b881409",
   "metadata": {},
   "outputs": [],
   "source": []
  },
  {
   "cell_type": "code",
   "execution_count": null,
   "id": "10bf862c-e677-4fbe-bcec-a5503a78fc26",
   "metadata": {},
   "outputs": [],
   "source": []
  },
  {
   "cell_type": "code",
   "execution_count": null,
   "id": "90f074c4-2401-4c66-b5e7-7c6244dfb38f",
   "metadata": {},
   "outputs": [],
   "source": []
  },
  {
   "cell_type": "code",
   "execution_count": null,
   "id": "ad2c931a-30e5-4d97-bfa1-ce35b8907930",
   "metadata": {},
   "outputs": [],
   "source": []
  },
  {
   "cell_type": "code",
   "execution_count": null,
   "id": "eb002923-d54e-4dee-bb82-206907cdd7a1",
   "metadata": {},
   "outputs": [],
   "source": []
  },
  {
   "cell_type": "code",
   "execution_count": null,
   "id": "1853a1ff-aa05-4904-8966-636629b14e0e",
   "metadata": {},
   "outputs": [],
   "source": []
  },
  {
   "cell_type": "code",
   "execution_count": null,
   "id": "f44e5d82-29a9-4be3-a364-ba50ce0a2482",
   "metadata": {},
   "outputs": [],
   "source": []
  },
  {
   "cell_type": "code",
   "execution_count": null,
   "id": "f0b5a738-42af-48e8-a0ca-d4555655ee65",
   "metadata": {},
   "outputs": [],
   "source": []
  },
  {
   "cell_type": "markdown",
   "id": "767a71ef",
   "metadata": {},
   "source": [
    "#### Selection des variables\n",
    "- Séparer les features et les labels dans deux variables X et Y, X contiendra les colonnes que vous avez selectionné d'après vos analyses. Y contiendra la colonne 'SalePrice'.\n",
    "- Préparer les données selectionnées pour le modèle de machine learning : Encodage des variables catégorielle et scaling des données quantitatives"
   ]
  },
  {
   "cell_type": "code",
   "execution_count": null,
   "id": "f3c90a99-0472-4ea8-9357-56395828eec9",
   "metadata": {},
   "outputs": [],
   "source": []
  },
  {
   "cell_type": "markdown",
   "id": "675787c0-9820-45a0-851b-062299ef7ad2",
   "metadata": {},
   "source": [
    "- Séparer les données en deux sous ensembles 75%-25% pour l'entraînement et le test du modèle de machine learning avec la methode train_test_split de sklearn."
   ]
  },
  {
   "cell_type": "code",
   "execution_count": null,
   "id": "e4c3c4ac-cacf-4049-9b10-ae5d892b750e",
   "metadata": {},
   "outputs": [],
   "source": [
    "X_train, X_test, Y_train, Y_test = train_test_split(X,Y,test_size=0.20,random_state=42)"
   ]
  },
  {
   "cell_type": "markdown",
   "id": "e0ce9721",
   "metadata": {},
   "source": [
    "#### Entraîner un modèle de regression linéaire\n",
    "- Importer le modèle LinearRegression de sklearn et proceder à l'entrainement sur l'ensemble d'entrainement"
   ]
  },
  {
   "cell_type": "code",
   "execution_count": null,
   "id": "d7205d33",
   "metadata": {},
   "outputs": [],
   "source": [
    "from sklearn.linear_model import LinearRegression\n",
    "\n",
    "model1 = LinearRegression()\n",
    "model1.fit(X_train, Y_train)"
   ]
  },
  {
   "cell_type": "markdown",
   "id": "ba208529",
   "metadata": {},
   "source": [
    "#### Evaluer le modèle\n",
    "\n",
    "- Faire les prédictions sur l'ensemble de données de test\n",
    "- calculer R2 score pour évaluer votre modèle"
   ]
  },
  {
   "cell_type": "code",
   "execution_count": null,
   "id": "bab913f2",
   "metadata": {},
   "outputs": [],
   "source": [
    "from sklearn.metrics import r2_score\n",
    "\n",
    "predictions1 = model1.predict(X_test)\n",
    "model_score = r2_score(predictions1, Y_test)\n",
    "print(f\"Votre modèle est précis {str(round(model_score,2)*100)} %\")"
   ]
  },
  {
   "cell_type": "markdown",
   "id": "1fd27613-4158-4687-89c4-fb832d623fa3",
   "metadata": {},
   "source": [
    "- Essayer avec un autre algorithme."
   ]
  },
  {
   "cell_type": "code",
   "execution_count": null,
   "id": "33b72762-57e7-4ac9-bf4b-eb08fb287342",
   "metadata": {},
   "outputs": [],
   "source": [
    "from sklearn.ensemble import GradientBoostingRegressor\n",
    "model2 = GradientBoostingRegressor()\n",
    "model2.fit(X_train, Y_train)\n",
    "predictions2 = model2.predict(X_test)\n",
    "model_score2 = r2_score(predictions2, Y_test)\n",
    "print(f\"Votre modèle est précis {str(round(model_score2,2)*100)} %\")"
   ]
  },
  {
   "cell_type": "markdown",
   "id": "f73f7415",
   "metadata": {},
   "source": [
    "Quelles sont les features les plus importantes d'après l'entrainement du modèle ?"
   ]
  },
  {
   "cell_type": "code",
   "execution_count": 1,
   "id": "75910dfe",
   "metadata": {},
   "outputs": [
    {
     "ename": "NameError",
     "evalue": "name 'plt' is not defined",
     "output_type": "error",
     "traceback": [
      "\u001b[0;31m---------------------------------------------------------------------------\u001b[0m",
      "\u001b[0;31mNameError\u001b[0m                                 Traceback (most recent call last)",
      "Cell \u001b[0;32mIn[1], line 1\u001b[0m\n\u001b[0;32m----> 1\u001b[0m \u001b[43mplt\u001b[49m\u001b[38;5;241m.\u001b[39mbarh(X_train\u001b[38;5;241m.\u001b[39mcolumns, model2\u001b[38;5;241m.\u001b[39mfeature_importances_)\n\u001b[1;32m      2\u001b[0m plt\u001b[38;5;241m.\u001b[39mtitle(\u001b[38;5;124m'\u001b[39m\u001b[38;5;124mFeature importance\u001b[39m\u001b[38;5;124m'\u001b[39m)\n\u001b[1;32m      3\u001b[0m plt\u001b[38;5;241m.\u001b[39mshow()\n",
      "\u001b[0;31mNameError\u001b[0m: name 'plt' is not defined"
     ]
    }
   ],
   "source": [
    "plt.barh(X_train.columns, model2.feature_importances_)\n",
    "plt.title('Feature importance')\n",
    "plt.show()"
   ]
  },
  {
   "cell_type": "code",
   "execution_count": null,
   "id": "f4a825ae",
   "metadata": {},
   "outputs": [],
   "source": []
  }
 ],
 "metadata": {
  "kernelspec": {
   "display_name": "Python 3 (ipykernel)",
   "language": "python",
   "name": "python3"
  },
  "language_info": {
   "codemirror_mode": {
    "name": "ipython",
    "version": 3
   },
   "file_extension": ".py",
   "mimetype": "text/x-python",
   "name": "python",
   "nbconvert_exporter": "python",
   "pygments_lexer": "ipython3",
   "version": "3.10.8"
  }
 },
 "nbformat": 4,
 "nbformat_minor": 5
}
